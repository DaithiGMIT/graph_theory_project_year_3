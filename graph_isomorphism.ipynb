{
 "cells": [
  {
   "attachments": {},
   "cell_type": "markdown",
   "metadata": {},
   "source": [
    "# The Graph Isomorphism Problem\n",
    "## Simple Defintion\n",
    "The graph isomorphism problem is the problem of computing wether or not two fintie graphs are isomorphic.\n",
    "Graphs are considered isomorphic when relabling vertices from one graph will give you an exact copy of the second graph.\n",
    "It is considered a problem because such calculations require a lot of computation to solve."
   ]
  }
 ],
 "metadata": {
  "language_info": {
   "name": "python"
  },
  "orig_nbformat": 4
 },
 "nbformat": 4,
 "nbformat_minor": 2
}
